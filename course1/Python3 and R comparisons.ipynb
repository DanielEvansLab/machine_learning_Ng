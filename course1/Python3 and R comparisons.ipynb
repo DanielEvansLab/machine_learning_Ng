{
 "cells": [
  {
   "cell_type": "markdown",
   "metadata": {},
   "source": [
    "# Compare and contrast Python3 and R"
   ]
  },
  {
   "cell_type": "markdown",
   "metadata": {},
   "source": [
    "Jupiter notebook: use plus button in menu to add a cell."
   ]
  },
  {
   "cell_type": "markdown",
   "metadata": {},
   "source": [
    "## Simple variable types\n",
    "\n",
    "### R\n",
    "Integer\n",
    "`x <- 1L`\n",
    "\n",
    "Floating point, numeric\n",
    "`x <- 1; x <- 1.0` Both assignments produce object with numeric class\n",
    "\n",
    "String\n",
    "`x <- \"hi\" or x <- 'hi'`\n",
    "\n",
    "Logical\n",
    "`x <- TRUE`\n",
    "\n",
    "Get data type\n",
    "`class(x)`\n",
    "\n",
    "### Python3\n",
    "Integer\n",
    "`x = 1`\n",
    "\n",
    "Float, floating point\n",
    "`x = 1.0`\n",
    "\n",
    "String\n",
    "`x = \"hi\"; x = 'hi'`\n",
    "\n",
    "Boolean, logical\n",
    "`x = True; x = False` Case sensitive\n",
    "\n",
    "Get data type\n",
    "`type(x)`\n"
   ]
  },
  {
   "cell_type": "markdown",
   "metadata": {},
   "source": [
    "## Complex data structures\n",
    "\n",
    "### R\n",
    "Vector. All elements must be of same data type. **Indices start at 1.**\n",
    "Can attach attributes. \n",
    "\n",
    "`x <- c(1,2,3); x <- 1:3`\n",
    "\n",
    "Matrix. 2-D representation of vector. All elements must be of same data type. If differ, coerced to most general type, which can be string. \n",
    "\n",
    "`x <- matrix(1:4,nrow=2, ncol=2)`\n",
    "\n",
    "Initialize empty matrix\n",
    "\n",
    "`x <- matrix(NA, nrow=2, ncol=2)`\n",
    "\n",
    "Array. Hardly ever use these, but they are multi-dimensional matrices\n",
    "\n",
    "List. Named list. Elements can be any data type. \n",
    "\n",
    "`x <- list(a=1, b=c(1,2,3), c=matrix(NA,nrow=2,ncol=2), d=\"string\", e=list(a=1,b=2))`\n",
    "\n",
    "### Python3\n",
    "Matrices and arrays will be introduced in numPy. \n",
    "Lists in base python have similarities with R vectors and R lists. Similar to R list in that elements can be any data type. Similar to R vector in indexing, but **indices start at zero.** \n",
    "\n",
    "### Python list indexing"
   ]
  },
  {
   "cell_type": "code",
   "execution_count": 1,
   "metadata": {},
   "outputs": [
    {
     "name": "stdout",
     "output_type": "stream",
     "text": [
      "[1, 2, 3, 4, 5]\n",
      "1\n",
      "5\n",
      "[['hallway', 1.0], ['kitchen', 1.2]]\n"
     ]
    }
   ],
   "source": [
    "x = [1,2,3,4,5]\n",
    "print(x)\n",
    "print(x[0])\n",
    "print(x[-1]) #last element\n",
    "#list of lists\n",
    "house = [[\"hallway\", 1.0],\n",
    "         [\"kitchen\", 1.2]]\n",
    "print(house)"
   ]
  },
  {
   "cell_type": "markdown",
   "metadata": {},
   "source": [
    "Python list subset and calculation"
   ]
  },
  {
   "cell_type": "code",
   "execution_count": 2,
   "metadata": {
    "scrolled": true
   },
   "outputs": [
    {
     "name": "stdout",
     "output_type": "stream",
     "text": [
      "28.75\n",
      "hallway kitchen\n"
     ]
    }
   ],
   "source": [
    "areas = [\"hallway\", 11.25, \"kitchen\", 18.0, \"living room\", 20.0, \"bedroom\", 10.75, \"bathroom\", 9.50]\n",
    "print(areas[3] + areas[7])\n",
    "print(areas[0] + \" \" + areas[2])"
   ]
  },
  {
   "cell_type": "markdown",
   "metadata": {},
   "source": [
    "### R list and vector indexing\n",
    "\n",
    "Subsetting R vectors and lists is very similar to Python list indexing.\n",
    "\n",
    "In R, a vector x would be created like `x <- 1:5`, and the first element is subsetted like this `x[1]`.\n",
    "\n",
    "R lists can be subsetted like that too, but with one difference. `x[1]` returns the first element of a list, which itself is a list, but `x[[1]]` returns the contents of the first element of the list.\n",
    "\n",
    "In Python, a list x is created like `x <- [1,2,3,4,5]`, and the first element is subsetted like this `x[0]`."
   ]
  },
  {
   "cell_type": "markdown",
   "metadata": {},
   "source": [
    "This is R code showing subsetting elements of a list. \n",
    "\n",
    "```{r}\n",
    "x\n",
    "$a\n",
    "[1] 1 2 3 4 5\n",
    "$b\n",
    "[1] 1 2 3 4 5\n",
    "\n",
    "x[1]\n",
    "\n",
    "$a\n",
    "[1] 1 2 3 4 5\n",
    "\n",
    "class(x[1])\n",
    "\n",
    "[1] \"list\"\n",
    "\n",
    "x[[1]]\n",
    "\n",
    "[1] 1 2 3 4 5\n",
    "\n",
    "class(x[[1]])\n",
    "\n",
    "[1] \"integer\"\n",
    "```"
   ]
  },
  {
   "cell_type": "markdown",
   "metadata": {},
   "source": [
    "### Python list slicing\n",
    "my_list[start:end]\n",
    "\n",
    "The start index will be included, while the end index is not."
   ]
  },
  {
   "cell_type": "markdown",
   "metadata": {},
   "source": [
    "### Python list manipulation\n",
    "\n",
    "Index the element of the list you want changed, then assign the new value to it. \n",
    "\n",
    "Can also subset range of list, then replace with a list."
   ]
  },
  {
   "cell_type": "code",
   "execution_count": 3,
   "metadata": {},
   "outputs": [
    {
     "name": "stdout",
     "output_type": "stream",
     "text": [
      "[1, 2, 5]\n"
     ]
    }
   ],
   "source": [
    "x = [1,2,3]\n",
    "x[2] = 5\n",
    "print(x)"
   ]
  },
  {
   "cell_type": "markdown",
   "metadata": {},
   "source": [
    "Adding and removing elements of Python list\n",
    "\n",
    "Adding. Use plus sign. list1 + list2\n",
    "\n",
    "Removing. Use `del x[2]`\n",
    "\n",
    "In python, a list variable name serves as a pointer to the list. If you assign a new variable name (y) to an existing list x, such as `y=x`, y still points to the same list. Manipulating y would also manipulate x. If you want to manipulate them separately, you need to make a copy of the list, like so:\n",
    "\n",
    "```{python}\n",
    "y = list(x)\n",
    "\n",
    "or\n",
    "\n",
    "y = x[:]\n",
    "```"
   ]
  },
  {
   "cell_type": "code",
   "execution_count": 4,
   "metadata": {},
   "outputs": [
    {
     "data": {
      "text/plain": [
       "'MYSTRING'"
      ]
     },
     "execution_count": 4,
     "metadata": {},
     "output_type": "execute_result"
    }
   ],
   "source": [
    "#Python3 string method. Method is like a function that belongs to a particular object\n",
    "x = \"mystring\"\n",
    "x.upper()"
   ]
  },
  {
   "cell_type": "code",
   "execution_count": 5,
   "metadata": {},
   "outputs": [
    {
     "data": {
      "text/plain": [
       "str"
      ]
     },
     "execution_count": 5,
     "metadata": {},
     "output_type": "execute_result"
    }
   ],
   "source": [
    "#Python3 function\n",
    "type(x)"
   ]
  },
  {
   "cell_type": "markdown",
   "metadata": {},
   "source": [
    "## Conditional execution\n",
    "\n",
    "### R\n",
    "`if(x < 10){\n",
    "    print(x) } else {\n",
    "    print(\"x>=10\")}`\n",
    "    \n",
    "### Python"
   ]
  },
  {
   "cell_type": "code",
   "execution_count": 6,
   "metadata": {},
   "outputs": [
    {
     "name": "stdout",
     "output_type": "stream",
     "text": [
      "x>=10\n"
     ]
    }
   ],
   "source": [
    "x=15\n",
    "if x < 10:\n",
    "    print(x)\n",
    "else:\n",
    "    print(\"x>=10\")\n"
   ]
  },
  {
   "cell_type": "markdown",
   "metadata": {},
   "source": [
    "## Library import and usage\n",
    "\n",
    "### R\n",
    "`library (random)\n",
    "random::randint()`\n",
    "\n",
    "### python"
   ]
  },
  {
   "cell_type": "code",
   "execution_count": 7,
   "metadata": {},
   "outputs": [
    {
     "data": {
      "text/plain": [
       "10"
      ]
     },
     "execution_count": 7,
     "metadata": {},
     "output_type": "execute_result"
    }
   ],
   "source": [
    "import random\n",
    "random.randint(5,10)"
   ]
  },
  {
   "cell_type": "markdown",
   "metadata": {},
   "source": [
    "## Function definition\n",
    "\n",
    "### R\n",
    "```{r}\n",
    "myfxn <- function(){\n",
    "    code\n",
    "    }\n",
    "```\n",
    "\n",
    "Function documentation. ?myfxn\n",
    "\n",
    "### python\n",
    "Function documentation. help(myfxn)"
   ]
  },
  {
   "cell_type": "code",
   "execution_count": 8,
   "metadata": {},
   "outputs": [
    {
     "name": "stdout",
     "output_type": "stream",
     "text": [
      "8\n"
     ]
    }
   ],
   "source": [
    "def myfxn(a):\n",
    "    print(a*2)\n",
    "\n",
    "myfxn(4)"
   ]
  },
  {
   "cell_type": "markdown",
   "metadata": {},
   "source": [
    "## Processing files line-by-line\n",
    "\n",
    "### R\n",
    "I'd rather not.\n",
    "\n",
    "### python\n",
    "``` {python}\n",
    "handle = open(\"file.txt\")\n",
    "\n",
    "fout = open(\"out.txt\", \"w\")\n",
    "\n",
    "for line in handle:\n",
    "    line = line.rstrip() #like perl chomp, removes right trailing white space, like line-ending\n",
    "    print(line) #print adds \\n to end but not straightforward to associate file handle with print\n",
    "    #instead, do this\n",
    "    line = line + \"\\n\"\n",
    "    fout.write(line)\n",
    "\n",
    "fout.close()\n",
    "```\n"
   ]
  },
  {
   "cell_type": "markdown",
   "metadata": {},
   "source": [
    "## Python functions \n",
    "\n",
    "### Functions \n",
    "len(x)\n",
    "\n",
    "### Methods\n",
    "Functions created to work on specific objects. Called like so:\n",
    "object.method()\n",
    "Methods exist for different obejcts. Methods can behave differently depending on the object the method was called on.\n",
    "list methods\n",
    "\n"
   ]
  },
  {
   "cell_type": "markdown",
   "metadata": {},
   "source": [
    "## Python numpy\n",
    "\n",
    "### Create numpy array from list"
   ]
  },
  {
   "cell_type": "code",
   "execution_count": 18,
   "metadata": {},
   "outputs": [
    {
     "name": "stdout",
     "output_type": "stream",
     "text": [
      "[0.1, 0.2, 0.3, 0.4]\n",
      "[0.1 0.2 0.3 0.4]\n",
      "0.1\n",
      "[0.1 0.2]\n",
      "[0.05 0.1  0.15 0.2 ]\n"
     ]
    }
   ],
   "source": [
    "import numpy as np\n",
    "\n",
    "weights = [0.1, 0.2, 0.3, 0.4]\n",
    "print(weights)\n",
    "np_weights = np.array(weights)\n",
    "print(np_weights)\n",
    "\n",
    "#subset by index or boolean\n",
    "#without print function, output only shows result of last line of code\n",
    "print(np_weights[0])\n",
    "print(np_weights[np_weights < 0.3])\n",
    "\n",
    "#vectorized multiplication. Element-wise operation, just like R.\n",
    "print(0.5 * np_weights)\n",
    "\n"
   ]
  },
  {
   "cell_type": "code",
   "execution_count": null,
   "metadata": {},
   "outputs": [],
   "source": []
  }
 ],
 "metadata": {
  "kernelspec": {
   "display_name": "Python 3",
   "language": "python",
   "name": "python3"
  },
  "language_info": {
   "codemirror_mode": {
    "name": "ipython",
    "version": 3
   },
   "file_extension": ".py",
   "mimetype": "text/x-python",
   "name": "python",
   "nbconvert_exporter": "python",
   "pygments_lexer": "ipython3",
   "version": "3.6.4"
  }
 },
 "nbformat": 4,
 "nbformat_minor": 2
}
