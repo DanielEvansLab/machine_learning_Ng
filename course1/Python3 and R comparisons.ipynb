{
 "cells": [
  {
   "cell_type": "markdown",
   "metadata": {},
   "source": [
    "# Compare and contrast Python3 and R"
   ]
  },
  {
   "cell_type": "markdown",
   "metadata": {},
   "source": [
    "Jupiter notebook: use plus button in menu to add a cell."
   ]
  },
  {
   "cell_type": "markdown",
   "metadata": {},
   "source": [
    "## Simple variable types\n",
    "\n",
    "### R\n",
    "Integer\n",
    "`x <- 1L`\n",
    "\n",
    "Floating point, numeric\n",
    "`x <- 1; x <- 1.0` Both assignments produce object with numeric class\n",
    "\n",
    "String\n",
    "`x <- \"hi\" or x <- 'hi'`\n",
    "\n",
    "Logical\n",
    "`x <- TRUE`\n",
    "\n",
    "Get data type\n",
    "`class(x)`\n",
    "\n",
    "### Python3\n",
    "Integer\n",
    "`x = 1`\n",
    "\n",
    "Float, floating point\n",
    "`x = 1.0`\n",
    "\n",
    "String\n",
    "`x = \"hi\"; x = 'hi'`\n",
    "\n",
    "Boolean, logical\n",
    "`x = True; x = False` Case sensitive\n",
    "\n",
    "Get data type\n",
    "`type(x)`\n"
   ]
  },
  {
   "cell_type": "markdown",
   "metadata": {},
   "source": [
    "## Complex data structures\n",
    "\n",
    "### R\n",
    "Vector. All elements must be of same data type. Indices start at 1.\n",
    "Can attach attributes. \n",
    "`x <- c(1,2,3); x <- 1:3`\n",
    "\n",
    "Matrix. 2-D representation of vector. All elements must be of same data type. If differ, coerced to most general type, which can be string. \n",
    "`x <- matrix(1:4,nrow=2, ncol=2)`\n",
    "Initialize empty matrix\n",
    "`x <- matrix(NA, nrow=2, ncol=2)`\n",
    "\n",
    "Array. Hardly ever use these, but they are multi-dimensional matrices\n",
    "\n",
    "List. Named list. Elements can be any data type. \n",
    "`x <- list(a=1, b=c(1,2,3), c=matrix(NA,nrow=2,ncol=2), d=\"string\", e=list(a=1,b=2))`\n",
    "\n",
    "### Python3\n",
    "Matricies and arrays will be introduced in numPy. \n",
    "Lists in base python have similarities with R vectors and R lists. Similar to R list in that elements can be any data type. Similar to R vector in indexing, but **indices start at zero.** "
   ]
  },
  {
   "cell_type": "code",
   "execution_count": 7,
   "metadata": {},
   "outputs": [
    {
     "name": "stdout",
     "output_type": "stream",
     "text": [
      "1\n",
      "[1, 2, 3, 4, 5]\n"
     ]
    }
   ],
   "source": [
    "#Python list\n",
    "x = [1,2,3,4,5]\n",
    "print(x[0])\n",
    "print(x)"
   ]
  },
  {
   "cell_type": "code",
   "execution_count": 3,
   "metadata": {},
   "outputs": [
    {
     "data": {
      "text/plain": [
       "'MYSTRING'"
      ]
     },
     "execution_count": 3,
     "metadata": {},
     "output_type": "execute_result"
    }
   ],
   "source": [
    "#Python3 string method\n",
    "x = \"mystring\"\n",
    "x.upper()"
   ]
  },
  {
   "cell_type": "code",
   "execution_count": 5,
   "metadata": {},
   "outputs": [
    {
     "data": {
      "text/plain": [
       "str"
      ]
     },
     "execution_count": 5,
     "metadata": {},
     "output_type": "execute_result"
    }
   ],
   "source": [
    "#Python3 function\n",
    "type(x)"
   ]
  },
  {
   "cell_type": "code",
   "execution_count": null,
   "metadata": {},
   "outputs": [],
   "source": []
  }
 ],
 "metadata": {
  "kernelspec": {
   "display_name": "Python 3",
   "language": "python",
   "name": "python3"
  },
  "language_info": {
   "codemirror_mode": {
    "name": "ipython",
    "version": 3
   },
   "file_extension": ".py",
   "mimetype": "text/x-python",
   "name": "python",
   "nbconvert_exporter": "python",
   "pygments_lexer": "ipython3",
   "version": "3.6.4"
  }
 },
 "nbformat": 4,
 "nbformat_minor": 2
}
