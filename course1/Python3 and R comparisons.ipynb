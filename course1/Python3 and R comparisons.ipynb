{
 "cells": [
  {
   "cell_type": "markdown",
   "metadata": {},
   "source": [
    "# Compare and contrast Python3 and R"
   ]
  },
  {
   "cell_type": "markdown",
   "metadata": {},
   "source": [
    "Jupiter notebook: use plus button in menu to add a cell."
   ]
  },
  {
   "cell_type": "markdown",
   "metadata": {},
   "source": [
    "## Simple variable types\n",
    "\n",
    "### R\n",
    "Integer\n",
    "`x <- 1L`\n",
    "\n",
    "Floating point, numeric\n",
    "`x <- 1; x <- 1.0` Both assignments produce object with numeric class\n",
    "\n",
    "String\n",
    "`x <- \"hi\" or x <- 'hi'`\n",
    "\n",
    "Logical\n",
    "`x <- TRUE`\n",
    "\n",
    "Get data type\n",
    "`class(x)`\n",
    "\n",
    "### Python3\n",
    "Integer\n",
    "`x = 1`\n",
    "\n",
    "Float, floating point\n",
    "`x = 1.0`\n",
    "\n",
    "String\n",
    "`x = \"hi\"; x = 'hi'`\n",
    "\n",
    "Boolean, logical\n",
    "`x = True; x = False` Case sensitive\n",
    "\n",
    "Get data type\n",
    "`type(x)`\n"
   ]
  },
  {
   "cell_type": "markdown",
   "metadata": {},
   "source": [
    "## Complex data structures\n",
    "\n",
    "### R\n",
    "Vector. All elements must be of same data type. **Indices start at 1.**\n",
    "Can attach attributes. \n",
    "\n",
    "`x <- c(1,2,3); x <- 1:3`\n",
    "\n",
    "Matrix. 2-D representation of vector. All elements must be of same data type. If differ, coerced to most general type, which can be string. \n",
    "\n",
    "`x <- matrix(1:4,nrow=2, ncol=2)`\n",
    "\n",
    "Initialize empty matrix\n",
    "\n",
    "`x <- matrix(NA, nrow=2, ncol=2)`\n",
    "\n",
    "Array. Hardly ever use these, but they are multi-dimensional matrices\n",
    "\n",
    "List. Named list. Elements can be any data type. \n",
    "\n",
    "`x <- list(a=1, b=c(1,2,3), c=matrix(NA,nrow=2,ncol=2), d=\"string\", e=list(a=1,b=2))`\n",
    "\n",
    "### Python3\n",
    "Matrices and arrays will be introduced in numPy. \n",
    "Lists in base python have similarities with R vectors and R lists. Similar to R list in that elements can be any data type. Similar to R vector in indexing, but **indices start at zero.** \n",
    "\n",
    "Python list"
   ]
  },
  {
   "cell_type": "code",
   "execution_count": 10,
   "metadata": {},
   "outputs": [
    {
     "name": "stdout",
     "output_type": "stream",
     "text": [
      "[1, 2, 3, 4, 5]\n",
      "1\n",
      "5\n",
      "[['hallway', 1.0], ['kitchen', 1.2]]\n"
     ]
    }
   ],
   "source": [
    "x = [1,2,3,4,5]\n",
    "print(x)\n",
    "print(x[0])\n",
    "print(x[-1]) #last element\n",
    "#list of lists\n",
    "house = [[\"hallway\", 1.0],\n",
    "         [\"kitchen\", 1.2]]\n",
    "print(house)"
   ]
  },
  {
   "cell_type": "code",
   "execution_count": 12,
   "metadata": {},
   "outputs": [
    {
     "name": "stdout",
     "output_type": "stream",
     "text": [
      "28.75\n",
      "hallway kitchen\n"
     ]
    }
   ],
   "source": [
    "#List subset and calculation\n",
    "areas = [\"hallway\", 11.25, \"kitchen\", 18.0, \"living room\", 20.0, \"bedroom\", 10.75, \"bathroom\", 9.50]\n",
    "print(areas[3] + areas[7])\n",
    "print(areas[0] + \" \" + areas[2])"
   ]
  },
  {
   "cell_type": "markdown",
   "metadata": {},
   "source": [
    "Python list slicing\n",
    "my_list[start:end]\n",
    "The start index will be included, while the end index is not."
   ]
  },
  {
   "cell_type": "code",
   "execution_count": 3,
   "metadata": {},
   "outputs": [
    {
     "data": {
      "text/plain": [
       "'MYSTRING'"
      ]
     },
     "execution_count": 3,
     "metadata": {},
     "output_type": "execute_result"
    }
   ],
   "source": [
    "#Python3 string method\n",
    "x = \"mystring\"\n",
    "x.upper()"
   ]
  },
  {
   "cell_type": "code",
   "execution_count": 5,
   "metadata": {},
   "outputs": [
    {
     "data": {
      "text/plain": [
       "str"
      ]
     },
     "execution_count": 5,
     "metadata": {},
     "output_type": "execute_result"
    }
   ],
   "source": [
    "#Python3 function\n",
    "type(x)"
   ]
  },
  {
   "cell_type": "code",
   "execution_count": null,
   "metadata": {},
   "outputs": [],
   "source": []
  }
 ],
 "metadata": {
  "kernelspec": {
   "display_name": "Python 3",
   "language": "python",
   "name": "python3"
  },
  "language_info": {
   "codemirror_mode": {
    "name": "ipython",
    "version": 3
   },
   "file_extension": ".py",
   "mimetype": "text/x-python",
   "name": "python",
   "nbconvert_exporter": "python",
   "pygments_lexer": "ipython3",
   "version": "3.6.4"
  }
 },
 "nbformat": 4,
 "nbformat_minor": 2
}
