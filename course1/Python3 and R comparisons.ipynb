{
 "cells": [
  {
   "cell_type": "markdown",
   "metadata": {},
   "source": [
    "# Compare and contrast Python3 and R"
   ]
  },
  {
   "cell_type": "markdown",
   "metadata": {},
   "source": [
    "# Jupiter notebook usage notes.\n",
    "\n",
    "## Startup\n",
    "`jupyter notebook`\n",
    "\n",
    "## Modal editor\n",
    "* Like vi in this way.\n",
    "* Edit mode and Command mode.\n",
    "* Enter Edit mode with `Enter`. Cell turns green in edit mode. \n",
    "* Enter Command mode with `Esc`. Cell now has blue left margin. \n",
    "\n",
    "## Navigate to different cells\n",
    "* Use arrow keys in command mode.\n",
    "\n",
    "## New cell.\n",
    "* Menu-based. Add new cell using plus button. Then, select type of cell (code or markdown) in drop-down. \n",
    "* Keyboard shortcut. `a` insert cell above. `b` insert cell below. \n",
    "\n",
    "## Keyboard shortcut cell type.\n",
    "* Change cell to markdown with `m`. \n",
    "* Change cell to code with `y`. \n",
    "\n",
    "## Run cell\n",
    "* `Shift-enter`\n",
    "\n",
    "## Delete selected cell\n",
    "* `d d` just like vi\n",
    "* Undo cell deletion `z`"
   ]
  },
  {
   "cell_type": "markdown",
   "metadata": {},
   "source": [
    "## Simple variable types\n",
    "\n",
    "### R\n",
    "Integer\n",
    "`x <- 1L`\n",
    "\n",
    "Floating point, numeric\n",
    "`x <- 1; x <- 1.0` Both assignments produce object with numeric class\n",
    "\n",
    "String\n",
    "`x <- \"hi\" or x <- 'hi'`\n",
    "\n",
    "Logical\n",
    "`x <- TRUE`\n",
    "\n",
    "Get data type\n",
    "`class(x)` or\n",
    "`typeof(x)`\n",
    "\n",
    "Can create a vector of different atomic modes, e.g., logical, integer, numeric (double), complex, character, or raw. This is a good way to create an empty vector to store results from a loop. \n",
    "\n",
    "`x <- vector(mode = \"integer\", length = 5)`\n",
    "\n",
    "### Python3\n",
    "Integer\n",
    "`x = 1`\n",
    "\n",
    "Float, floating point\n",
    "`x = 1.0`\n",
    "\n",
    "String\n",
    "`x = \"hi\"; x = 'hi'`\n",
    "\n",
    "Boolean, logical\n",
    "`x = True; x = False` Case sensitive\n",
    "\n",
    "Get data type\n",
    "`type(x)`\n"
   ]
  },
  {
   "cell_type": "code",
   "execution_count": 3,
   "metadata": {},
   "outputs": [
    {
     "name": "stdout",
     "output_type": "stream",
     "text": [
      "<class 'int'>\n",
      "1\n",
      "<class 'float'>\n",
      "1.11\n",
      "<class 'str'>\n",
      "hi\n",
      "<class 'bool'>\n",
      "True\n",
      "<class 'bool'>\n",
      "True\n"
     ]
    }
   ],
   "source": [
    "x = int(1.11)\n",
    "print(type(x))\n",
    "print(x)\n",
    "\n",
    "x = float(1.11)\n",
    "print(type(x))\n",
    "print(x)\n",
    "\n",
    "x = str(\"hi\")\n",
    "print(type(x))\n",
    "print(x)\n",
    "\n",
    "x = bool(True)\n",
    "print(type(x))\n",
    "print(x)\n",
    "x = bool(\"hi\") #coercing or evaluating non-empty as True?\n",
    "print(type(x))\n",
    "print(x)\n",
    "\n"
   ]
  },
  {
   "cell_type": "markdown",
   "metadata": {},
   "source": [
    "## Complex data structures\n",
    "\n",
    "### R\n",
    "Vector. All elements must be of same data type. **Indices start at 1.**\n",
    "Can attach attributes. \n",
    "\n",
    "`x <- c(1,2,3); x <- 1:3`\n",
    "\n",
    "Matrix. 2-D representation of vector. All elements must be of same data type. If differ, coerced to most general type, which can be string. \n",
    "\n",
    "`x <- matrix(1:4,nrow=2, ncol=2)`\n",
    "\n",
    "Initialize empty matrix\n",
    "\n",
    "`x <- matrix(NA, nrow=2, ncol=2)`\n",
    "\n",
    "Array. Hardly ever use these, but they are multi-dimensional matrices\n",
    "\n",
    "List. Named list. Elements can be any data type. \n",
    "\n",
    "`x <- list(a=1, b=c(1,2,3), c=matrix(NA,nrow=2,ncol=2), d=\"string\", e=list(a=1,b=2))`\n",
    "\n",
    "Can also create an empty list to store results of a loop or lapply.\n",
    "\n",
    "`x <- vector(mode= \"list\", length=5)`\n",
    "\n",
    "### Python3\n",
    "Matrices and arrays will be introduced in numPy. \n",
    "Lists in base python have similarities with R vectors and R lists. Similar to R list in that elements can be any data type. Similar to R vector in indexing, but **indices start at zero.** \n",
    "\n",
    "### Python list indexing"
   ]
  },
  {
   "cell_type": "code",
   "execution_count": 11,
   "metadata": {
    "scrolled": true
   },
   "outputs": [
    {
     "name": "stdout",
     "output_type": "stream",
     "text": [
      "[1, 2, 3, 4, 5, 6]\n",
      "[1, 2, 3, 4, 5, 6, 1, 2, 3, 4, 5, 6, 1, 2, 3, 4, 5, 6]\n",
      "1\n",
      "6\n",
      "list index for value of 6. Reports first appearance of 6, which is index 5, but doesn't report next index.\n",
      "5\n",
      "[['hallway', 1.0], ['kitchen', 1.2]]\n",
      "hallway\n"
     ]
    },
    {
     "data": {
      "text/plain": [
       "'hallway'"
      ]
     },
     "execution_count": 11,
     "metadata": {},
     "output_type": "execute_result"
    }
   ],
   "source": [
    "x = [1,2,3,4,5,6]\n",
    "print(x)\n",
    "print(3 * x)\n",
    "# print(3 + x) error, addition does not distribute for a list\n",
    "print(x[0])\n",
    "print(x[-1]) #last element\n",
    "print (\"list index for value of 6. Reports first appearance of 6, which is index 5, but doesn't report next index.\")\n",
    "print(x.index(6))\n",
    "#list of lists\n",
    "house = [[\"hallway\", 1.0],\n",
    "         [\"kitchen\", 1.2]]\n",
    "print(house)\n",
    "print(house[0][0])\n",
    "house[0][0] #without a print function, result shown in \"Out\"\n"
   ]
  },
  {
   "cell_type": "markdown",
   "metadata": {},
   "source": [
    "Python list subset and calculation"
   ]
  },
  {
   "cell_type": "code",
   "execution_count": 2,
   "metadata": {
    "scrolled": true
   },
   "outputs": [
    {
     "name": "stdout",
     "output_type": "stream",
     "text": [
      "28.75\n",
      "hallway kitchen\n"
     ]
    }
   ],
   "source": [
    "areas = [\"hallway\", 11.25, \"kitchen\", 18.0, \"living room\", 20.0, \"bedroom\", 10.75, \"bathroom\", 9.50]\n",
    "print(areas[3] + areas[7])\n",
    "print(areas[0] + \" \" + areas[2])"
   ]
  },
  {
   "cell_type": "markdown",
   "metadata": {},
   "source": [
    "### R list and vector indexing\n",
    "\n",
    "Subsetting R vectors and lists is very similar to Python list indexing.\n",
    "\n",
    "In R, a vector x would be created like `x <- 1:5`, and the first element is subsetted like this `x[1]`.\n",
    "\n",
    "R lists can be subsetted like that too, but with one difference. `x[1]` returns the first element of a list, which itself is a list, but `x[[1]]` returns the contents of the first element of the list.\n",
    "\n",
    "In Python, a list x is created like `x <- [1,2,3,4,5]`, and the first element is subsetted like this `x[0]`."
   ]
  },
  {
   "cell_type": "markdown",
   "metadata": {},
   "source": [
    "This is R code showing subsetting elements of a list. \n",
    "\n",
    "```{r}\n",
    "x\n",
    "$a\n",
    "[1] 1 2 3 4 5\n",
    "$b\n",
    "[1] 1 2 3 4 5\n",
    "\n",
    "x[1]\n",
    "\n",
    "$a\n",
    "[1] 1 2 3 4 5\n",
    "\n",
    "class(x[1])\n",
    "\n",
    "[1] \"list\"\n",
    "\n",
    "x[[1]]\n",
    "\n",
    "[1] 1 2 3 4 5\n",
    "\n",
    "class(x[[1]])\n",
    "\n",
    "[1] \"integer\"\n",
    "```"
   ]
  },
  {
   "cell_type": "markdown",
   "metadata": {},
   "source": [
    "### Python list slicing\n",
    "my_list[start:end]\n",
    "\n",
    "The start index will be included, while the end index is not."
   ]
  },
  {
   "cell_type": "markdown",
   "metadata": {},
   "source": [
    "### Python list manipulation\n",
    "\n",
    "Index the element of the list you want changed, then assign the new value to it. \n",
    "\n",
    "Can also subset range of list, then replace with a list."
   ]
  },
  {
   "cell_type": "code",
   "execution_count": 3,
   "metadata": {},
   "outputs": [
    {
     "name": "stdout",
     "output_type": "stream",
     "text": [
      "[1, 2, 5]\n"
     ]
    }
   ],
   "source": [
    "x = [1,2,3]\n",
    "x[2] = 5\n",
    "print(x)"
   ]
  },
  {
   "cell_type": "markdown",
   "metadata": {},
   "source": [
    "Adding and removing elements of Python list\n",
    "\n",
    "Adding new elements to the end of a list. Use plus sign. list1 + list2\n",
    "\n",
    "Removing. Use `del (x[2])`\n",
    "You can remove a slice from a list like this:\n",
    "`del(x[2:4])` , which removes elements 2 and 3, but not element 4 from the list x.\n",
    "\n",
    "In python, a list variable name serves as a pointer to the list. If you assign a new variable name (y) to an existing list x, such as `y=x`, y still points to the same list. The file pointer is changed, but the underlying list is still the same. Manipulating y would also manipulate x. If you want to manipulate them separately, you need to make a copy of the list, like so:\n",
    "\n",
    "```{python}\n",
    "y = list(x)\n",
    "\n",
    "or\n",
    "\n",
    "y = x[:]\n",
    "```"
   ]
  },
  {
   "cell_type": "code",
   "execution_count": 4,
   "metadata": {},
   "outputs": [
    {
     "data": {
      "text/plain": [
       "'MYSTRING'"
      ]
     },
     "execution_count": 4,
     "metadata": {},
     "output_type": "execute_result"
    }
   ],
   "source": [
    "#Python3 string method. Method is like a function that belongs to a particular object\n",
    "x = \"mystring\"\n",
    "x.upper()"
   ]
  },
  {
   "cell_type": "code",
   "execution_count": 5,
   "metadata": {},
   "outputs": [
    {
     "data": {
      "text/plain": [
       "str"
      ]
     },
     "execution_count": 5,
     "metadata": {},
     "output_type": "execute_result"
    }
   ],
   "source": [
    "#Python3 function\n",
    "type(x)"
   ]
  },
  {
   "cell_type": "markdown",
   "metadata": {},
   "source": [
    "## Conditional execution\n",
    "\n",
    "### R\n",
    "`if(x < 10){\n",
    "    print(x) } else {\n",
    "    print(\"x>=10\")}`\n",
    "    \n",
    "### Python"
   ]
  },
  {
   "cell_type": "code",
   "execution_count": 6,
   "metadata": {},
   "outputs": [
    {
     "name": "stdout",
     "output_type": "stream",
     "text": [
      "x>=10\n"
     ]
    }
   ],
   "source": [
    "x=15\n",
    "if x < 10:\n",
    "    print(x)\n",
    "else:\n",
    "    print(\"x>=10\")\n"
   ]
  },
  {
   "cell_type": "markdown",
   "metadata": {},
   "source": [
    "## Library import and usage\n",
    "\n",
    "### R\n",
    "`library (random)\n",
    "random::randint()`\n",
    "\n",
    "### python"
   ]
  },
  {
   "cell_type": "code",
   "execution_count": 5,
   "metadata": {},
   "outputs": [
    {
     "data": {
      "text/plain": [
       "5"
      ]
     },
     "execution_count": 5,
     "metadata": {},
     "output_type": "execute_result"
    }
   ],
   "source": [
    "import random\n",
    "random.randint(5,10)\n",
    "\n"
   ]
  },
  {
   "cell_type": "markdown",
   "metadata": {},
   "source": [
    "## Function definition\n",
    "\n",
    "### R\n",
    "```{r}\n",
    "myfxn <- function(){\n",
    "    code\n",
    "    }\n",
    "```\n",
    "\n",
    "Function documentation. ?myfxn\n",
    "\n",
    "### python\n",
    "Function documentation. help(myfxn)\n",
    "\n"
   ]
  },
  {
   "cell_type": "code",
   "execution_count": 8,
   "metadata": {},
   "outputs": [
    {
     "name": "stdout",
     "output_type": "stream",
     "text": [
      "8\n"
     ]
    }
   ],
   "source": [
    "def myfxn(a):\n",
    "    print(a*2)\n",
    "\n",
    "myfxn(4)"
   ]
  },
  {
   "cell_type": "markdown",
   "metadata": {},
   "source": [
    "## Processing files line-by-line\n",
    "\n",
    "### R\n",
    "I'd rather not.\n",
    "\n",
    "### python\n",
    "``` {python}\n",
    "handle = open(\"file.txt\")\n",
    "\n",
    "fout = open(\"out.txt\", \"w\")\n",
    "\n",
    "for line in handle:\n",
    "    line = line.rstrip() #like perl chomp, removes right trailing white space, like line-ending\n",
    "    #print(line) #print adds \\n to end but not straightforward to associate file handle with print\n",
    "    #instead, do this\n",
    "    #Lists are mutable, i.e., you can change them. Reassign to only include first 2 elements.\n",
    "    line = line[0:2]\n",
    "    line = line + \"\\n\"\n",
    "    fout.write(line)\n",
    "\n",
    "fout.close()\n",
    "```\n"
   ]
  },
  {
   "cell_type": "markdown",
   "metadata": {},
   "source": [
    "## Python functions \n",
    "\n",
    "### Functions \n",
    "Built-in functions\n",
    "\n",
    "len(x)\n",
    "\n",
    "max(x)\n",
    "\n",
    "round(1.12345, 1) #1.1\n",
    "\n",
    "help()\n",
    "\n",
    "### Methods\n",
    "Functions created to work on specific objects. Called like so:\n",
    "object.method()\n",
    "Methods exist for different obejcts. Methods can behave differently depending on the object the method was called on.\n",
    "list methods\n",
    "\n"
   ]
  },
  {
   "cell_type": "markdown",
   "metadata": {},
   "source": [
    "## Python numpy\n",
    "\n",
    "### Create numpy array from list"
   ]
  },
  {
   "cell_type": "code",
   "execution_count": 13,
   "metadata": {},
   "outputs": [
    {
     "name": "stdout",
     "output_type": "stream",
     "text": [
      "[1, 2, 3, 4, 5]\n",
      "[1, 2, 3, 4, 5, 6, 7, 8, 9, 10]\n",
      "[ 1  2  3  4  5  6  7  8  9 10]\n",
      "1\n",
      "[1 2]\n",
      "[0.5 1.  1.5 2.  2.5 3.  3.5 4.  4.5 5. ]\n"
     ]
    },
    {
     "data": {
      "text/plain": [
       "list"
      ]
     },
     "execution_count": 13,
     "metadata": {},
     "output_type": "execute_result"
    }
   ],
   "source": [
    "import numpy as np\n",
    "\n",
    "weights = list(range(1,11))\n",
    "weights_2 = [1,2,3,4,5]\n",
    "print(weights_2)\n",
    "type(weights_2)\n",
    "print(weights)\n",
    "np_weights = np.array(weights)\n",
    "print(np_weights)\n",
    "\n",
    "#subset by index or boolean\n",
    "#without print function, output only shows result of last line of code\n",
    "print(np_weights[0])\n",
    "print(np_weights[np_weights < 3])\n",
    "\n",
    "#vectorized multiplication. Element-wise operation, just like R.\n",
    "print(0.5 * np_weights)\n",
    "type(weights_2)\n"
   ]
  },
  {
   "cell_type": "markdown",
   "metadata": {},
   "source": [
    "## Python matplotlib"
   ]
  },
  {
   "cell_type": "code",
   "execution_count": 2,
   "metadata": {},
   "outputs": [
    {
     "name": "stdout",
     "output_type": "stream",
     "text": [
      "[0, 1, 2, 3, 4, 5, 6, 7, 8, 9, 0, 1, 1, 1, 1, 2, 3, 3, 3, 3, 4, 5]\n"
     ]
    },
    {
     "data": {
      "image/png": "[encoded data removed]",
      "text/plain": [
       "<matplotlib.figure.Figure at 0x104316eb8>"
      ]
     },
     "metadata": {},
     "output_type": "display_data"
    }
   ],
   "source": [
    "import matplotlib.pyplot as plt\n",
    "\n",
    "x = list(range(0,10))\n",
    "x.extend([0, 1, 1, 1, 1, 2, 3, 3, 3, 3, 4, 5])\n",
    "print(x)\n",
    "plt.hist(x, bins = 5)\n",
    "plt.show()\n",
    "\n"
   ]
  },
  {
   "cell_type": "markdown",
   "metadata": {},
   "source": [
    "## Python Dictionary\n",
    "\n",
    "Seems similar to a named vector in R.\n",
    "{key:value, key:value}\n",
    "\n",
    "Keys should be unique and they are immutable.\n",
    "\n",
    "Contrast with lists, which are mutable. Since lists are mutable, keys can't be created from lists.\n",
    "\n",
    "Lists indexed by numbers. Dict indexed by keys.\n",
    "\n",
    "Note - dict doesn't store order. List does.\n",
    "\n",
    "Dict values can also be dicts."
   ]
  },
  {
   "cell_type": "code",
   "execution_count": 26,
   "metadata": {},
   "outputs": [
    {
     "name": "stdout",
     "output_type": "stream",
     "text": [
      "2\n",
      "<class 'dict_keys'>\n",
      "dict_keys(['a', 'b'])\n",
      "Add new dict entry like so:\n",
      "{'a': 1, 'b': 2, 'c': 3}\n",
      "Test if c is a key\n",
      "True\n",
      "Update vals in dict\n",
      "{'a': 1, 'b': 2, 'c': 5}\n",
      "Delete element in dict\n",
      "{'a': 1, 'b': 2}\n",
      "dict in dict\n",
      "{'a': 1, 'b': {'c': 3, 'd': 4}}\n",
      "4\n"
     ]
    }
   ],
   "source": [
    "mydict = {\"a\":1, \"b\":2}\n",
    "print(mydict[\"b\"])\n",
    "print(type(mydict.keys()))\n",
    "print(mydict.keys())\n",
    "mydict[\"a\"]  #If I run a print after this, the output isn't shown. \n",
    "print(\"Add new dict entry like so:\")\n",
    "mydict[\"c\"] = 3\n",
    "print(mydict)\n",
    "mydict\n",
    "print(\"Test if c is a key\")\n",
    "print(\"c\" in mydict)\n",
    "print(\"Update vals in dict\")\n",
    "mydict[\"c\"] = 5\n",
    "print(mydict)\n",
    "print(\"Delete element in dict\")\n",
    "del(mydict[\"c\"])\n",
    "print(mydict)\n",
    "print(\"dict in dict\")\n",
    "mydict = {'a': 1, 'b':{'c':3, 'd':4}}\n",
    "print(mydict)\n",
    "print(mydict['b']['d'])"
   ]
  },
  {
   "cell_type": "markdown",
   "metadata": {},
   "source": [
    "## Python Pandas\n",
    "\n",
    "Pandas dataframe can hold heterogeneous data types. Numby array is homogenous. \n",
    "\n",
    "How to create dataframe from dict?"
   ]
  },
  {
   "cell_type": "code",
   "execution_count": 32,
   "metadata": {},
   "outputs": [
    {
     "name": "stdout",
     "output_type": "stream",
     "text": [
      "create dataframe from dict\n",
      "   a  b      c\n",
      "0  1  2  stuff\n",
      "Dataframe with row labels\n",
      "      a  b      c\n",
      "row1  1  2  stuff\n"
     ]
    }
   ],
   "source": [
    "import pandas as pd\n",
    "\n",
    "print(\"create dataframe from dict\")\n",
    "mydict = {\"a\":[1], \"b\":[2], 'c':['stuff']} #values must be lists, not scalars\n",
    "#keys are column labels, values are the data by column.\n",
    "#Pandas assigns row names automatically. You can set them with a list to the index method.\n",
    "mypd = pd.DataFrame(mydict)\n",
    "print(mypd)\n",
    "mypd.index = [\"row1\"]\n",
    "print(\"Dataframe with row labels\")\n",
    "print(mypd)\n"
   ]
  },
  {
   "cell_type": "markdown",
   "metadata": {},
   "source": [
    "### Create a dataframe from csv file?\n",
    "\n",
    "pd.read_csv(\"path to file\")\n",
    "\n",
    "If you have a column that are the row names, this method imports it as an unnamed column. Can fix with pd.read_csv(\"path\", index_col = 0)"
   ]
  },
  {
   "cell_type": "code",
   "execution_count": 65,
   "metadata": {},
   "outputs": [
    {
     "name": "stdout",
     "output_type": "stream",
     "text": [
      "            HWBMI  BMI30  DADEAD    ACDURDAY   ACAMNMZ    ACAMEDMZ  ACTNAP2Z  \\\n",
      "ID                                                                             \n",
      "BI0001  28.284403    0.0     1.0  945.800000  223.0040  245.800000      3.40   \n",
      "BI0002  32.485925    1.0     1.0  795.333333  225.9900  248.666667      1.00   \n",
      "BI0003  26.590930    0.0     1.0  929.400000  195.7360  208.800000      5.00   \n",
      "BI0004  29.064272    0.0     0.0  775.500000  147.3350  169.000000    149.00   \n",
      "BI0007  20.483872    0.0     1.0  921.500000  206.3625  242.500000     57.75   \n",
      "\n",
      "        ACMSEPMZ  ACLSEPMZ  ACNIGHTS    ...     ACWAKEMT  ACNAP5MP  \\\n",
      "ID                                      ...                          \n",
      "BI0001      2.30      0.20       6.0    ...     5.933333     11.80   \n",
      "BI0002      1.00      0.00       5.0    ...     8.900000      6.00   \n",
      "BI0003      1.80      0.40       6.0    ...     6.483333     14.60   \n",
      "BI0004     12.35      7.00       5.0    ...     9.600000    144.00   \n",
      "BI0007     10.03      2.25       5.0    ...     3.266667     63.75   \n",
      "\n",
      "          ACNAP5MT  ACNAP5MZ   ACSTIMEM    ACMIDM  ACETIMEM  ACSTIMES  \\\n",
      "ID                                                                      \n",
      "BI0001   11.000000      2.00  21.861111  1.941667  6.030556  0.404512   \n",
      "BI0002    5.666667      0.00  23.490000  4.253333  9.013333  0.509439   \n",
      "BI0003   19.400000      4.40  21.941667  2.286111  6.616667  0.289396   \n",
      "BI0004  190.500000    137.00  22.560000  4.096667  9.630000  0.278538   \n",
      "BI0007   74.750000     49.75  18.703333 -1.013333  3.283333  0.562163   \n",
      "\n",
      "          ACMIDS  ACETIMES  \n",
      "ID                          \n",
      "BI0001  0.216731  0.393900  \n",
      "BI0002  1.031140  1.824616  \n",
      "BI0003  0.358921  0.584237  \n",
      "BI0004  0.279484  0.489103  \n",
      "BI0007  0.269877  0.159426  \n",
      "\n",
      "[5 rows x 199 columns]\n"
     ]
    }
   ],
   "source": [
    "#Demo with actig data from Terri\n",
    "\n",
    "dat = pd.read_csv(\"~/work/classes/datacamp/data/DL_NOFORMAT.csv\", index_col = 0)\n",
    "\n",
    "print(dat[0:5])\n",
    "\n"
   ]
  },
  {
   "cell_type": "markdown",
   "metadata": {},
   "source": [
    "### Index and select pandas dataframes\n",
    "\n"
   ]
  },
  {
   "cell_type": "code",
   "execution_count": 53,
   "metadata": {},
   "outputs": [
    {
     "name": "stdout",
     "output_type": "stream",
     "text": [
      "<class 'pandas.core.series.Series'>\n",
      "<class 'pandas.core.frame.DataFrame'>\n",
      "select multiple columns, return df\n",
      "            HWBMI  BMI30\n",
      "ID                      \n",
      "BI0001  28.284403    0.0\n",
      "BI0002  32.485925    1.0\n",
      "BI0003  26.590930    0.0\n",
      "BI0004  29.064272    0.0\n",
      "BI0007  20.483872    0.0\n",
      "BI0008  28.951937    0.0\n",
      "BI0010  24.767527    0.0\n",
      "BI0013  25.148904    0.0\n",
      "BI0014  24.775898    0.0\n",
      "BI0015  26.804516    0.0\n",
      "BI0018  26.913770    0.0\n",
      "BI0023  29.188003    0.0\n",
      "BI0024  35.171574    1.0\n",
      "BI0025  23.605534    0.0\n",
      "BI0028  28.838932    0.0\n",
      "BI0029  27.026745    0.0\n",
      "BI0036  31.832525    1.0\n",
      "BI0037  26.267033    0.0\n",
      "BI0039  31.904906    1.0\n",
      "BI0040  24.342519    0.0\n",
      "BI0041  24.822520    0.0\n",
      "BI0043  37.316672    1.0\n",
      "BI0044  25.161012    0.0\n",
      "BI0045  23.865559    0.0\n",
      "BI0046  27.410690    0.0\n",
      "BI0048  32.148212    1.0\n",
      "BI0049  24.253617    0.0\n",
      "BI0050  25.460380    0.0\n",
      "BI0052  28.438159    0.0\n",
      "BI0054  24.247446    0.0\n",
      "...           ...    ...\n",
      "SD8960  27.040172    0.0\n",
      "SD8961  28.817403    0.0\n",
      "SD8964  26.908015    0.0\n",
      "SD8967  28.262122    0.0\n",
      "SD8969  32.356297    1.0\n",
      "SD8972  24.863315    0.0\n",
      "SD8977  24.590492    0.0\n",
      "SD8978  31.566741    1.0\n",
      "SD8979  25.561480    0.0\n",
      "SD8982  27.960513    0.0\n",
      "SD8986  28.897959    0.0\n",
      "SD8987  25.943023    0.0\n",
      "SD8991  27.660186    0.0\n",
      "SD8993  23.866475    0.0\n",
      "SD8995  26.104889    0.0\n",
      "SD8996  35.406792    1.0\n",
      "SD8997  30.592637    1.0\n",
      "SD8998  26.200284    0.0\n",
      "SD8999  25.455966    0.0\n",
      "SD9000  25.314087    0.0\n",
      "SD9001  21.245857    0.0\n",
      "SD9003  36.335163    1.0\n",
      "SD9006  28.928264    0.0\n",
      "SD9007  22.046001    0.0\n",
      "SD9008  21.959491    0.0\n",
      "SD9009  32.168326    1.0\n",
      "SD9010  22.468368    0.0\n",
      "SD9013  24.275094    0.0\n",
      "SD9014  19.238772    0.0\n",
      "SD9016  23.731608    0.0\n",
      "\n",
      "[3135 rows x 2 columns]\n",
      "select rows with slice. End of slice not included.\n",
      "With square brackets, you can select multiple columns, row slices, but not both. For both, you need loc and iloc\n"
     ]
    }
   ],
   "source": [
    "print(type(dat[\"HWBMI\"])) #single bracket returns series\n",
    "\n",
    "print(type(dat[[\"HWBMI\"]])) #double bracket return df\n",
    "\n",
    "print(\"select multiple columns, return df\")\n",
    "print(dat[[\"HWBMI\", \"BMI30\"]])\n",
    "\n",
    "print(\"select rows with slice. End of slice not included.\")\n",
    "\n",
    "print(\"With square brackets, you can select multiple columns, row slices, but not both. For both, you need loc and iloc\")\n"
   ]
  },
  {
   "cell_type": "markdown",
   "metadata": {},
   "source": [
    "### How to select rows and columns? \n",
    "\n",
    "loc and iloc.\n",
    "\n",
    "loc = label-based. Can select rows and columns.\n",
    "\n",
    "iloc = integer position based.\n",
    "\n",
    "Apparently you can combine label-based and integer-based with ix, which will be learned later."
   ]
  },
  {
   "cell_type": "code",
   "execution_count": 74,
   "metadata": {},
   "outputs": [
    {
     "name": "stdout",
     "output_type": "stream",
     "text": [
      "Index(['BI0001', 'BI0002', 'BI0003', 'BI0004', 'BI0007', 'BI0008', 'BI0010',\n",
      "       'BI0013', 'BI0014', 'BI0015',\n",
      "       ...\n",
      "       'SD9001', 'SD9003', 'SD9006', 'SD9007', 'SD9008', 'SD9009', 'SD9010',\n",
      "       'SD9013', 'SD9014', 'SD9016'],\n",
      "      dtype='object', name='ID', length=3135)\n",
      "Index(['BI0001', 'BI0002', 'BI0003', 'BI0004', 'BI0007', 'BI0008', 'BI0010',\n",
      "       'BI0013', 'BI0014', 'BI0015', 'BI0018', 'BI0023', 'BI0024', 'BI0025',\n",
      "       'BI0028', 'BI0029', 'BI0036', 'BI0037', 'BI0039', 'BI0040', 'BI0041',\n",
      "       'BI0043', 'BI0044', 'BI0045', 'BI0046', 'BI0048', 'BI0049', 'BI0050',\n",
      "       'BI0052', 'BI0054', 'BI0055', 'BI0059', 'BI0060', 'BI0063', 'BI0064',\n",
      "       'BI0065', 'BI0066', 'BI0068', 'BI0070', 'BI0073', 'BI0075', 'BI0077',\n",
      "       'BI0080', 'BI0084', 'BI0085', 'BI0092', 'BI0094', 'BI0096', 'BI0098',\n",
      "       'BI0099'],\n",
      "      dtype='object', name='ID')\n",
      "Index(['HWBMI', 'BMI30', 'DADEAD', 'ACDURDAY', 'ACAMNMZ', 'ACAMEDMZ',\n",
      "       'ACTNAP2Z', 'ACMSEPMZ', 'ACLSEPMZ', 'ACNIGHTS', 'ACDURNT', 'ACSMINMZ',\n",
      "       'ACLWEPMZ', 'ACSEFFMZ', 'ACSLATMZ', 'ACWASOMZ', 'ACSEFNMZ', 'ACAMNMP',\n",
      "       'ACAMEDMP', 'ACTNAP2P', 'ACMSEPMP', 'ACLSEPMP', 'ACSMINMP', 'ACLWEPMP',\n",
      "       'ACSEFFMP', 'ACSLATMP', 'ACWASOMP', 'ACSEFNMP', 'ACAMNMT', 'ACAMEDMT',\n",
      "       'ACTNAP2T', 'ACMSEPMT', 'ACLSEPMT', 'ACSMINMT', 'ACLWEPMT', 'ACSEFFMT',\n",
      "       'ACSLATMT', 'ACWASOMT', 'ACSEFNMT', 'ACRSQP', 'ACAMPP', 'ACMINP',\n",
      "       'ACACROP', 'ACMESP', 'ACMDFP', 'ACFVALP', 'ACPRFP', 'ACEDFP', 'ACRSQZ',\n",
      "       'ACAMPZ'],\n",
      "      dtype='object')\n",
      "Index(['ACMINZ', 'ACACROZ', 'ACMESZ', 'ACMDFZ', 'ACFVALZ', 'ACPRFZ', 'ACEDFZ',\n",
      "       'ACRSQT', 'ACAMPT', 'ACMINT', 'ACACROT', 'ACMEST', 'ACMDFT', 'ACFVALT',\n",
      "       'ACPRFT', 'ACEDFT', 'ACRSQLP', 'ACAMPLP', 'ACMINLP', 'ACACROLP',\n",
      "       'ACMESLP', 'ACMDFLP', 'ACFVALLP', 'ACPRFLP', 'ACEDFLP', 'ACRSQLZ',\n",
      "       'ACAMPLZ', 'ACMINLZ', 'ACACROLZ', 'ACMESLZ', 'ACMDFLZ', 'ACFVALLZ',\n",
      "       'ACPRFLZ', 'ACEDFLZ', 'ACRSQLT', 'ACAMPLT', 'ACMINLT', 'ACACROLT',\n",
      "       'ACMESLT', 'ACMDFLT', 'ACFVALLT', 'ACPRFLT', 'ACEDFLT', 'ACNUMMIN',\n",
      "       'ACAMPPT', 'ACBETPT', 'ACPHIPT', 'ACMINPT', 'ACALPPT', 'ACHTLPT'],\n",
      "      dtype='object')\n",
      "HWBMI         28.284403\n",
      "BMI30          0.000000\n",
      "DADEAD         1.000000\n",
      "ACDURDAY     945.800000\n",
      "ACAMNMZ      223.004000\n",
      "ACAMEDMZ     245.800000\n",
      "ACTNAP2Z       3.400000\n",
      "ACMSEPMZ       2.300000\n",
      "ACLSEPMZ       0.200000\n",
      "ACNIGHTS       6.000000\n",
      "ACDURNT      491.166667\n",
      "ACSMINMZ     326.833333\n",
      "ACLWEPMZ       8.333333\n",
      "ACSEFFMZ      74.913333\n",
      "ACSLATMZ      45.000000\n",
      "ACWASOMZ     110.666667\n",
      "ACSEFNMZ      67.405370\n",
      "ACAMNMP     3858.626000\n",
      "ACAMEDMP    3781.000000\n",
      "ACTNAP2P      20.800000\n",
      "ACMSEPMP       3.498000\n",
      "ACLSEPMP       1.600000\n",
      "ACSMINMP     394.500000\n",
      "ACLWEPMP       5.833333\n",
      "ACSEFFMP      83.270000\n",
      "ACSLATMP      19.000000\n",
      "ACWASOMP      78.500000\n",
      "ACSEFNMP      80.406475\n",
      "ACAMNMT      212.738000\n",
      "ACAMEDMT     240.000000\n",
      "               ...     \n",
      "ACEDFLZT    7615.000000\n",
      "ACMESLZT       1.745936\n",
      "ACMDFLZT       4.000000\n",
      "ACPRFPT        0.000000\n",
      "ACPRFLPT       0.000000\n",
      "ACPRFTT        0.000000\n",
      "ACPRFLTT       0.000000\n",
      "ACPRFZT        0.000000\n",
      "ACPRFLZT       0.000000\n",
      "ACMIDSMP       2.050000\n",
      "ACMIDSSP       0.300000\n",
      "ACMIDSMZ       2.200000\n",
      "ACMIDSSZ       0.416667\n",
      "ACMIDSMT       1.983333\n",
      "ACMIDSST       0.216667\n",
      "ACONSTMP      22.166667\n",
      "ACWAKEMP       5.933333\n",
      "ACONSTMZ      22.600000\n",
      "ACWAKEMZ       5.783333\n",
      "ACONSTMT      22.050000\n",
      "ACWAKEMT       5.933333\n",
      "ACNAP5MP      11.800000\n",
      "ACNAP5MT      11.000000\n",
      "ACNAP5MZ       2.000000\n",
      "ACSTIMEM      21.861111\n",
      "ACMIDM         1.941667\n",
      "ACETIMEM       6.030556\n",
      "ACSTIMES       0.404512\n",
      "ACMIDS         0.216731\n",
      "ACETIMES       0.393900\n",
      "Name: BI0001, Length: 199, dtype: float64\n",
      "            HWBMI  BMI30  DADEAD  ACDURDAY  ACAMNMZ  ACAMEDMZ  ACTNAP2Z  \\\n",
      "ID                                                                        \n",
      "BI0001  28.284403    0.0     1.0     945.8  223.004     245.8       3.4   \n",
      "\n",
      "        ACMSEPMZ  ACLSEPMZ  ACNIGHTS    ...     ACWAKEMT  ACNAP5MP  ACNAP5MT  \\\n",
      "ID                                      ...                                    \n",
      "BI0001       2.3       0.2       6.0    ...     5.933333      11.8      11.0   \n",
      "\n",
      "        ACNAP5MZ   ACSTIMEM    ACMIDM  ACETIMEM  ACSTIMES    ACMIDS  ACETIMES  \n",
      "ID                                                                             \n",
      "BI0001       2.0  21.861111  1.941667  6.030556  0.404512  0.216731    0.3939  \n",
      "\n",
      "[1 rows x 199 columns]\n",
      "select rows and cols\n"
     ]
    },
    {
     "data": {
      "text/html": [
       "<div>\n",
       "<style scoped>\n",
       "    .dataframe tbody tr th:only-of-type {\n",
       "        vertical-align: middle;\n",
       "    }\n",
       "\n",
       "    .dataframe tbody tr th {\n",
       "        vertical-align: top;\n",
       "    }\n",
       "\n",
       "    .dataframe thead th {\n",
       "        text-align: right;\n",
       "    }\n",
       "</style>\n",
       "<table border=\"1\" class=\"dataframe\">\n",
       "  <thead>\n",
       "    <tr style=\"text-align: right;\">\n",
       "      <th></th>\n",
       "      <th>HWBMI</th>\n",
       "      <th>BMI30</th>\n",
       "      <th>DADEAD</th>\n",
       "      <th>ACDURDAY</th>\n",
       "      <th>ACAMNMZ</th>\n",
       "      <th>ACAMEDMZ</th>\n",
       "      <th>ACTNAP2Z</th>\n",
       "      <th>ACMSEPMZ</th>\n",
       "      <th>ACLSEPMZ</th>\n",
       "      <th>ACNIGHTS</th>\n",
       "      <th>...</th>\n",
       "      <th>ACWAKEMT</th>\n",
       "      <th>ACNAP5MP</th>\n",
       "      <th>ACNAP5MT</th>\n",
       "      <th>ACNAP5MZ</th>\n",
       "      <th>ACSTIMEM</th>\n",
       "      <th>ACMIDM</th>\n",
       "      <th>ACETIMEM</th>\n",
       "      <th>ACSTIMES</th>\n",
       "      <th>ACMIDS</th>\n",
       "      <th>ACETIMES</th>\n",
       "    </tr>\n",
       "    <tr>\n",
       "      <th>ID</th>\n",
       "      <th></th>\n",
       "      <th></th>\n",
       "      <th></th>\n",
       "      <th></th>\n",
       "      <th></th>\n",
       "      <th></th>\n",
       "      <th></th>\n",
       "      <th></th>\n",
       "      <th></th>\n",
       "      <th></th>\n",
       "      <th></th>\n",
       "      <th></th>\n",
       "      <th></th>\n",
       "      <th></th>\n",
       "      <th></th>\n",
       "      <th></th>\n",
       "      <th></th>\n",
       "      <th></th>\n",
       "      <th></th>\n",
       "      <th></th>\n",
       "      <th></th>\n",
       "    </tr>\n",
       "  </thead>\n",
       "  <tbody>\n",
       "    <tr>\n",
       "      <th>BI0001</th>\n",
       "      <td>28.284403</td>\n",
       "      <td>0.0</td>\n",
       "      <td>1.0</td>\n",
       "      <td>945.8</td>\n",
       "      <td>223.004</td>\n",
       "      <td>245.8</td>\n",
       "      <td>3.4</td>\n",
       "      <td>2.3</td>\n",
       "      <td>0.2</td>\n",
       "      <td>6.0</td>\n",
       "      <td>...</td>\n",
       "      <td>5.933333</td>\n",
       "      <td>11.8</td>\n",
       "      <td>11.0</td>\n",
       "      <td>2.0</td>\n",
       "      <td>21.861111</td>\n",
       "      <td>1.941667</td>\n",
       "      <td>6.030556</td>\n",
       "      <td>0.404512</td>\n",
       "      <td>0.216731</td>\n",
       "      <td>0.3939</td>\n",
       "    </tr>\n",
       "  </tbody>\n",
       "</table>\n",
       "<p>1 rows × 199 columns</p>\n",
       "</div>"
      ],
      "text/plain": [
       "            HWBMI  BMI30  DADEAD  ACDURDAY  ACAMNMZ  ACAMEDMZ  ACTNAP2Z  \\\n",
       "ID                                                                        \n",
       "BI0001  28.284403    0.0     1.0     945.8  223.004     245.8       3.4   \n",
       "\n",
       "        ACMSEPMZ  ACLSEPMZ  ACNIGHTS    ...     ACWAKEMT  ACNAP5MP  ACNAP5MT  \\\n",
       "ID                                      ...                                    \n",
       "BI0001       2.3       0.2       6.0    ...     5.933333      11.8      11.0   \n",
       "\n",
       "        ACNAP5MZ   ACSTIMEM    ACMIDM  ACETIMEM  ACSTIMES    ACMIDS  ACETIMES  \n",
       "ID                                                                             \n",
       "BI0001       2.0  21.861111  1.941667  6.030556  0.404512  0.216731    0.3939  \n",
       "\n",
       "[1 rows x 199 columns]"
      ]
     },
     "execution_count": 74,
     "metadata": {},
     "output_type": "execute_result"
    }
   ],
   "source": [
    "#loc\n",
    "#you can do this with row labels. Need index col.\n",
    "dat = pd.read_csv(\"~/work/classes/datacamp/data/DL_NOFORMAT.csv\", index_col = 0)\n",
    "#print index to see what you can select by.\n",
    "print(dat.index)\n",
    "print(dat.index[0:50])\n",
    "print(dat.columns[0:50])\n",
    "print(dat.columns[50:100])\n",
    "print(dat.loc[\"BI0001\"] )#returns a Series. Kind of inconvenient\n",
    "print(dat.loc[[\"BI0001\"]]) # much nicer\n",
    "dat.loc[[\"BI0001\"]] # the output without print looks even nicer\n",
    "print(\"select rows and cols\")\n",
    "dat.loc[[\"BI0001\"], [\"HWBMI\",\"BMI30\"]]\n",
    "dat.loc[[\"BI0001\"]]\n",
    "#select all rows with dat.loc[:, [\"HWBMI\",\"BMI30\"]]"
   ]
  },
  {
   "cell_type": "code",
   "execution_count": 56,
   "metadata": {},
   "outputs": [
    {
     "data": {
      "text/html": [
       "<div>\n",
       "<style scoped>\n",
       "    .dataframe tbody tr th:only-of-type {\n",
       "        vertical-align: middle;\n",
       "    }\n",
       "\n",
       "    .dataframe tbody tr th {\n",
       "        vertical-align: top;\n",
       "    }\n",
       "\n",
       "    .dataframe thead th {\n",
       "        text-align: right;\n",
       "    }\n",
       "</style>\n",
       "<table border=\"1\" class=\"dataframe\">\n",
       "  <thead>\n",
       "    <tr style=\"text-align: right;\">\n",
       "      <th></th>\n",
       "      <th>ID</th>\n",
       "      <th>BMI30</th>\n",
       "    </tr>\n",
       "  </thead>\n",
       "  <tbody>\n",
       "    <tr>\n",
       "      <th>0</th>\n",
       "      <td>BI0001</td>\n",
       "      <td>0.0</td>\n",
       "    </tr>\n",
       "  </tbody>\n",
       "</table>\n",
       "</div>"
      ],
      "text/plain": [
       "       ID  BMI30\n",
       "0  BI0001    0.0"
      ]
     },
     "execution_count": 56,
     "metadata": {},
     "output_type": "execute_result"
    }
   ],
   "source": [
    "#I can also use loc with default row number integers.\n",
    "\n",
    "dat = pd.read_csv(\"~/work/classes/datacamp/data/DL_NOFORMAT.csv\")\n",
    "\n",
    "dat.loc[[0], [\"ID\", \"BMI30\"]]\n"
   ]
  },
  {
   "cell_type": "markdown",
   "metadata": {},
   "source": [
    "### iloc examples"
   ]
  },
  {
   "cell_type": "code",
   "execution_count": 59,
   "metadata": {},
   "outputs": [
    {
     "data": {
      "text/html": [
       "<div>\n",
       "<style scoped>\n",
       "    .dataframe tbody tr th:only-of-type {\n",
       "        vertical-align: middle;\n",
       "    }\n",
       "\n",
       "    .dataframe tbody tr th {\n",
       "        vertical-align: top;\n",
       "    }\n",
       "\n",
       "    .dataframe thead th {\n",
       "        text-align: right;\n",
       "    }\n",
       "</style>\n",
       "<table border=\"1\" class=\"dataframe\">\n",
       "  <thead>\n",
       "    <tr style=\"text-align: right;\">\n",
       "      <th></th>\n",
       "      <th>ID</th>\n",
       "      <th>HWBMI</th>\n",
       "      <th>BMI30</th>\n",
       "    </tr>\n",
       "  </thead>\n",
       "  <tbody>\n",
       "    <tr>\n",
       "      <th>0</th>\n",
       "      <td>BI0001</td>\n",
       "      <td>28.284403</td>\n",
       "      <td>0.0</td>\n",
       "    </tr>\n",
       "    <tr>\n",
       "      <th>1</th>\n",
       "      <td>BI0002</td>\n",
       "      <td>32.485925</td>\n",
       "      <td>1.0</td>\n",
       "    </tr>\n",
       "    <tr>\n",
       "      <th>2</th>\n",
       "      <td>BI0003</td>\n",
       "      <td>26.590930</td>\n",
       "      <td>0.0</td>\n",
       "    </tr>\n",
       "  </tbody>\n",
       "</table>\n",
       "</div>"
      ],
      "text/plain": [
       "       ID      HWBMI  BMI30\n",
       "0  BI0001  28.284403    0.0\n",
       "1  BI0002  32.485925    1.0\n",
       "2  BI0003  26.590930    0.0"
      ]
     },
     "execution_count": 59,
     "metadata": {},
     "output_type": "execute_result"
    }
   ],
   "source": [
    "dat.iloc[[0,1],[0,1]]\n",
    "#dat.iloc[[0:3],[0:3]] This results in an error!\n",
    "dat.iloc[[0,1,2],[0,1,2]]"
   ]
  },
  {
   "cell_type": "code",
   "execution_count": null,
   "metadata": {},
   "outputs": [],
   "source": []
  }
 ],
 "metadata": {
  "kernelspec": {
   "display_name": "Python 3",
   "language": "python",
   "name": "python3"
  },
  "language_info": {
   "codemirror_mode": {
    "name": "ipython",
    "version": 3
   },
   "file_extension": ".py",
   "mimetype": "text/x-python",
   "name": "python",
   "nbconvert_exporter": "python",
   "pygments_lexer": "ipython3",
   "version": "3.6.4"
  }
 },
 "nbformat": 4,
 "nbformat_minor": 2
}
